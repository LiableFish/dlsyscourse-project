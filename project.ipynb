{
 "cells": [
  {
   "cell_type": "markdown",
   "id": "f3fbc5b1",
   "metadata": {},
   "source": [
    "# Final project: DEQ implementation"
   ]
  },
  {
   "cell_type": "markdown",
   "id": "f0f10667",
   "metadata": {},
   "source": [
    "### Set up environment"
   ]
  },
  {
   "cell_type": "code",
   "execution_count": 1,
   "id": "95b8c8c4",
   "metadata": {},
   "outputs": [],
   "source": [
    "# from google.colab import drive\n",
    "# drive.mount('/content/drive')\n",
    "# %cd /content/drive/MyDrive/\n",
    "# !mkdir -p 10714\n",
    "# %cd /content/drive/MyDrive/10714\n",
    "# !git clone https://github.com/LiableFish/dlsyscourse-project.git\n",
    "# %cd /content/drive/MyDrive/10714/dlsyscourse-project\n",
    "\n",
    "# !pip3 install --upgrade --no-deps git+https://github.com/dlsys10714/mugrade.git\n",
    "# !pip3 install pybind11\n",
    "# !pip3 install tqdm"
   ]
  },
  {
   "cell_type": "code",
   "execution_count": 2,
   "id": "2f217fbb",
   "metadata": {},
   "outputs": [],
   "source": [
    "# !make"
   ]
  },
  {
   "cell_type": "code",
   "execution_count": null,
   "id": "90f581bd",
   "metadata": {},
   "outputs": [],
   "source": [
    "# # Download the datasets you will be using for this assignment\n",
    "\n",
    "# import urllib.request\n",
    "# import os\n",
    "\n",
    "# !mkdir -p './data/ptb'\n",
    "# # Download Penn Treebank dataset\n",
    "# ptb_data = \"https://raw.githubusercontent.com/wojzaremba/lstm/master/data/ptb.\"\n",
    "# for f in ['train.txt', 'test.txt', 'valid.txt']:\n",
    "#     if not os.path.exists(os.path.join('./data/ptb', f)):\n",
    "#         urllib.request.urlretrieve(ptb_data + f, os.path.join('./data/ptb', f))\n",
    "\n",
    "# # Download CIFAR-10 dataset\n",
    "# if not os.path.isdir(\"./data/cifar-10-batches-py\"):\n",
    "#     urllib.request.urlretrieve(\"https://www.cs.toronto.edu/~kriz/cifar-10-python.tar.gz\", \"./data/cifar-10-python.tar.gz\")\n",
    "#     !tar -xvzf './data/cifar-10-python.tar.gz' -C './data'"
   ]
  },
  {
   "cell_type": "code",
   "execution_count": 1,
   "id": "88bfbdd3",
   "metadata": {},
   "outputs": [],
   "source": [
    "import sys\n",
    "sys.path.append('./python')\n",
    "sys.path.append('./apps')"
   ]
  },
  {
   "cell_type": "code",
   "execution_count": 2,
   "id": "470d69cd",
   "metadata": {},
   "outputs": [],
   "source": [
    "import numpy as np"
   ]
  },
  {
   "cell_type": "code",
   "execution_count": 3,
   "id": "18f06d43",
   "metadata": {},
   "outputs": [],
   "source": [
    "import needle as ndl"
   ]
  },
  {
   "cell_type": "code",
   "execution_count": 4,
   "id": "41d5e624",
   "metadata": {},
   "outputs": [],
   "source": [
    "device = ndl.cpu()"
   ]
  },
  {
   "cell_type": "code",
   "execution_count": 5,
   "id": "c9bde8c7",
   "metadata": {},
   "outputs": [],
   "source": [
    "train_dataset = ndl.data.CIFAR10Dataset(\"data/cifar-10-batches-py\", train=True)\n",
    "test_dataset = ndl.data.CIFAR10Dataset(\"data/cifar-10-batches-py\", train=False)"
   ]
  },
  {
   "cell_type": "code",
   "execution_count": 6,
   "id": "8747ee10",
   "metadata": {},
   "outputs": [],
   "source": [
    "train_dataloader = ndl.data.DataLoader(\n",
    "         dataset=train_dataset,\n",
    "         batch_size=128,\n",
    "         shuffle=True,\n",
    ")\n",
    "\n",
    "test_dataloader = ndl.data.DataLoader(\n",
    "         dataset=test_dataset,\n",
    "         batch_size=128,\n",
    "         shuffle=False,\n",
    ")"
   ]
  },
  {
   "cell_type": "code",
   "execution_count": 7,
   "id": "3784a694",
   "metadata": {},
   "outputs": [],
   "source": [
    "from simple_training import train_cifar10, evaluate_cifar10"
   ]
  },
  {
   "cell_type": "code",
   "execution_count": 8,
   "id": "a2a25f5e",
   "metadata": {},
   "outputs": [],
   "source": [
    "def _train(model, n_epochs: int = 10):\n",
    "    train_cifar10(\n",
    "        model,\n",
    "        train_dataloader,\n",
    "        n_epochs=n_epochs,\n",
    "        optimizer=ndl.optim.Adam,\n",
    "        lr=0.001, \n",
    "        weight_decay=0.001,\n",
    "    )\n",
    "    evaluate_cifar10(model, test_dataloader)"
   ]
  },
  {
   "cell_type": "markdown",
   "id": "cac01d60",
   "metadata": {},
   "source": [
    "### Training \"tanh\" model"
   ]
  },
  {
   "cell_type": "code",
   "execution_count": 9,
   "id": "cef3846f",
   "metadata": {},
   "outputs": [],
   "source": [
    "from models import TanhLinearDEQ"
   ]
  },
  {
   "cell_type": "code",
   "execution_count": 10,
   "id": "07ebbb2b",
   "metadata": {},
   "outputs": [],
   "source": [
    "tanh_model = TanhLinearDEQ(\n",
    "    in_features=3072,\n",
    "    hidden_size=128,\n",
    "    n_classes=10,\n",
    "    device=device,\n",
    "    use_deq=False,\n",
    "    depth=10,#100,\n",
    ")"
   ]
  },
  {
   "cell_type": "code",
   "execution_count": 18,
   "id": "2d7e7f43",
   "metadata": {},
   "outputs": [],
   "source": [
    "tanh_deq_model = TanhLinearDEQ(\n",
    "    in_features=3072,\n",
    "    hidden_size=128,\n",
    "    n_classes=10,\n",
    "    device=device,\n",
    "    use_deq=True,\n",
    "    solver=ndl.solver.ForwardIteration(max_iter=100, debug=True),\n",
    ")"
   ]
  },
  {
   "cell_type": "code",
   "execution_count": 13,
   "id": "5e24adc8",
   "metadata": {},
   "outputs": [],
   "source": [
    "X, _ = next(iter(train_dataloader))\n",
    "X = ndl.Tensor(X, device=device)"
   ]
  },
  {
   "cell_type": "code",
   "execution_count": 14,
   "id": "a517507b",
   "metadata": {},
   "outputs": [
    {
     "name": "stdout",
     "output_type": "stream",
     "text": [
      "CPU times: user 81 ms, sys: 10.2 ms, total: 91.2 ms\n",
      "Wall time: 87 ms\n"
     ]
    },
    {
     "data": {
      "text/plain": [
       "(128, 10)"
      ]
     },
     "execution_count": 14,
     "metadata": {},
     "output_type": "execute_result"
    }
   ],
   "source": [
    "%%time\n",
    "tanh_model(X).shape"
   ]
  },
  {
   "cell_type": "code",
   "execution_count": 15,
   "id": "b1011524",
   "metadata": {},
   "outputs": [
    {
     "name": "stdout",
     "output_type": "stream",
     "text": [
      "CPU times: user 345 ms, sys: 0 ns, total: 345 ms\n",
      "Wall time: 342 ms\n"
     ]
    },
    {
     "data": {
      "text/plain": [
       "(128, 10)"
      ]
     },
     "execution_count": 15,
     "metadata": {},
     "output_type": "execute_result"
    }
   ],
   "source": [
    "%%time\n",
    "tanh_deq_model(X).shape"
   ]
  },
  {
   "cell_type": "code",
   "execution_count": 17,
   "id": "b562c572",
   "metadata": {},
   "outputs": [
    {
     "data": {
      "application/vnd.jupyter.widget-view+json": {
       "model_id": "3b029aeadbb74c84a0e4915f42b4f38b",
       "version_major": 2,
       "version_minor": 0
      },
      "text/plain": [
       "  0%|          | 0/390 [00:00<?, ?it/s]"
      ]
     },
     "metadata": {},
     "output_type": "display_data"
    },
    {
     "name": "stdout",
     "output_type": "stream",
     "text": [
      "Epoch 0/9 accuracy: 0.29556 loss: [1.9659365] time: 85.618s\n"
     ]
    },
    {
     "data": {
      "application/vnd.jupyter.widget-view+json": {
       "model_id": "20934d5823724fb2b52f03b1365705e3",
       "version_major": 2,
       "version_minor": 0
      },
      "text/plain": [
       "  0%|          | 0/390 [00:00<?, ?it/s]"
      ]
     },
     "metadata": {},
     "output_type": "display_data"
    },
    {
     "name": "stdout",
     "output_type": "stream",
     "text": [
      "Epoch 1/9 accuracy: 0.36212 loss: [1.7897403] time: 112.840s\n"
     ]
    },
    {
     "data": {
      "application/vnd.jupyter.widget-view+json": {
       "model_id": "505b65f954404e35abdc83a2a87466a4",
       "version_major": 2,
       "version_minor": 0
      },
      "text/plain": [
       "  0%|          | 0/390 [00:00<?, ?it/s]"
      ]
     },
     "metadata": {},
     "output_type": "display_data"
    },
    {
     "name": "stdout",
     "output_type": "stream",
     "text": [
      "Epoch 2/9 accuracy: 0.38266 loss: [1.7257469] time: 87.993s\n"
     ]
    },
    {
     "data": {
      "application/vnd.jupyter.widget-view+json": {
       "model_id": "106af37419bc4e7f831d0e6f20f5cd82",
       "version_major": 2,
       "version_minor": 0
      },
      "text/plain": [
       "  0%|          | 0/390 [00:00<?, ?it/s]"
      ]
     },
     "metadata": {},
     "output_type": "display_data"
    },
    {
     "name": "stdout",
     "output_type": "stream",
     "text": [
      "Epoch 3/9 accuracy: 0.39814 loss: [1.684417] time: 99.096s\n"
     ]
    },
    {
     "data": {
      "application/vnd.jupyter.widget-view+json": {
       "model_id": "bc446f6261e94a25a7f9d260b435cbb7",
       "version_major": 2,
       "version_minor": 0
      },
      "text/plain": [
       "  0%|          | 0/390 [00:00<?, ?it/s]"
      ]
     },
     "metadata": {},
     "output_type": "display_data"
    },
    {
     "name": "stdout",
     "output_type": "stream",
     "text": [
      "Epoch 4/9 accuracy: 0.40616 loss: [1.6610756] time: 94.021s\n"
     ]
    },
    {
     "data": {
      "application/vnd.jupyter.widget-view+json": {
       "model_id": "2050152fc7a04b6ea5088d045ffa0794",
       "version_major": 2,
       "version_minor": 0
      },
      "text/plain": [
       "  0%|          | 0/390 [00:00<?, ?it/s]"
      ]
     },
     "metadata": {},
     "output_type": "display_data"
    },
    {
     "name": "stdout",
     "output_type": "stream",
     "text": [
      "Epoch 5/9 accuracy: 0.41718 loss: [1.637973] time: 139.520s\n"
     ]
    },
    {
     "data": {
      "application/vnd.jupyter.widget-view+json": {
       "model_id": "9890cd84bcec45f7bfd29c7d7fb80fab",
       "version_major": 2,
       "version_minor": 0
      },
      "text/plain": [
       "  0%|          | 0/390 [00:00<?, ?it/s]"
      ]
     },
     "metadata": {},
     "output_type": "display_data"
    },
    {
     "name": "stdout",
     "output_type": "stream",
     "text": [
      "Epoch 6/9 accuracy: 0.42318 loss: [1.6173705] time: 168.485s\n"
     ]
    },
    {
     "data": {
      "application/vnd.jupyter.widget-view+json": {
       "model_id": "f2e9cb8f11e24c478bd1dd599785a4b0",
       "version_major": 2,
       "version_minor": 0
      },
      "text/plain": [
       "  0%|          | 0/390 [00:00<?, ?it/s]"
      ]
     },
     "metadata": {},
     "output_type": "display_data"
    },
    {
     "name": "stdout",
     "output_type": "stream",
     "text": [
      "Epoch 7/9 accuracy: 0.42854 loss: [1.597893] time: 151.479s\n"
     ]
    },
    {
     "data": {
      "application/vnd.jupyter.widget-view+json": {
       "model_id": "1b1f33ae9b414822a39ac95a194098c4",
       "version_major": 2,
       "version_minor": 0
      },
      "text/plain": [
       "  0%|          | 0/390 [00:00<?, ?it/s]"
      ]
     },
     "metadata": {},
     "output_type": "display_data"
    },
    {
     "name": "stdout",
     "output_type": "stream",
     "text": [
      "Epoch 8/9 accuracy: 0.4345 loss: [1.587076] time: 163.587s\n"
     ]
    },
    {
     "data": {
      "application/vnd.jupyter.widget-view+json": {
       "model_id": "cc5e1942fa80471ab0b27d7542a9ac1b",
       "version_major": 2,
       "version_minor": 0
      },
      "text/plain": [
       "  0%|          | 0/390 [00:00<?, ?it/s]"
      ]
     },
     "metadata": {},
     "output_type": "display_data"
    },
    {
     "name": "stdout",
     "output_type": "stream",
     "text": [
      "Epoch 9/9 accuracy: 0.43654 loss: [1.577322] time: 170.690s\n"
     ]
    },
    {
     "data": {
      "application/vnd.jupyter.widget-view+json": {
       "model_id": "7771f8384a494863b07bfa315b2c0901",
       "version_major": 2,
       "version_minor": 0
      },
      "text/plain": [
       "  0%|          | 0/78 [00:00<?, ?it/s]"
      ]
     },
     "metadata": {},
     "output_type": "display_data"
    },
    {
     "name": "stdout",
     "output_type": "stream",
     "text": [
      "accuracy: 0.4163 loss: [1.6141825]\n"
     ]
    }
   ],
   "source": [
    "_train(tanh_model)"
   ]
  },
  {
   "cell_type": "code",
   "execution_count": 16,
   "id": "cb01043d",
   "metadata": {},
   "outputs": [
    {
     "data": {
      "application/vnd.jupyter.widget-view+json": {
       "model_id": "408b99104277407489df8c40bbe1420f",
       "version_major": 2,
       "version_minor": 0
      },
      "text/plain": [
       "  0%|          | 0/390 [00:00<?, ?it/s]"
      ]
     },
     "metadata": {},
     "output_type": "display_data"
    },
    {
     "name": "stdout",
     "output_type": "stream",
     "text": [
      "Epoch 0/9 accuracy: 0.30106 loss: [1.9590493] time: 88.557s\n"
     ]
    },
    {
     "data": {
      "application/vnd.jupyter.widget-view+json": {
       "model_id": "1479c76b302447ed931ba3148b1d83d2",
       "version_major": 2,
       "version_minor": 0
      },
      "text/plain": [
       "  0%|          | 0/390 [00:00<?, ?it/s]"
      ]
     },
     "metadata": {},
     "output_type": "display_data"
    },
    {
     "name": "stdout",
     "output_type": "stream",
     "text": [
      "Epoch 1/9 accuracy: 0.36106 loss: [1.78632] time: 87.084s\n"
     ]
    },
    {
     "data": {
      "application/vnd.jupyter.widget-view+json": {
       "model_id": "980d170c953f4303ab0756f946365cef",
       "version_major": 2,
       "version_minor": 0
      },
      "text/plain": [
       "  0%|          | 0/390 [00:00<?, ?it/s]"
      ]
     },
     "metadata": {},
     "output_type": "display_data"
    },
    {
     "name": "stdout",
     "output_type": "stream",
     "text": [
      "Epoch 2/9 accuracy: 0.38256 loss: [1.7327211] time: 98.414s\n"
     ]
    },
    {
     "data": {
      "application/vnd.jupyter.widget-view+json": {
       "model_id": "02fc1fb73d9f4cdc8e1ed2b71f545447",
       "version_major": 2,
       "version_minor": 0
      },
      "text/plain": [
       "  0%|          | 0/390 [00:00<?, ?it/s]"
      ]
     },
     "metadata": {},
     "output_type": "display_data"
    },
    {
     "name": "stdout",
     "output_type": "stream",
     "text": [
      "Epoch 3/9 accuracy: 0.39756 loss: [1.6942847] time: 84.235s\n"
     ]
    },
    {
     "data": {
      "application/vnd.jupyter.widget-view+json": {
       "model_id": "8d917c817b144e75b39ddab84ae8df53",
       "version_major": 2,
       "version_minor": 0
      },
      "text/plain": [
       "  0%|          | 0/390 [00:00<?, ?it/s]"
      ]
     },
     "metadata": {},
     "output_type": "display_data"
    },
    {
     "name": "stdout",
     "output_type": "stream",
     "text": [
      "Epoch 4/9 accuracy: 0.40964 loss: [1.6598368] time: 82.076s\n"
     ]
    },
    {
     "data": {
      "application/vnd.jupyter.widget-view+json": {
       "model_id": "60a7b68eb7d44f7aad64dc3a3d5f4c63",
       "version_major": 2,
       "version_minor": 0
      },
      "text/plain": [
       "  0%|          | 0/390 [00:00<?, ?it/s]"
      ]
     },
     "metadata": {},
     "output_type": "display_data"
    },
    {
     "name": "stdout",
     "output_type": "stream",
     "text": [
      "Epoch 5/9 accuracy: 0.41836 loss: [1.6371758] time: 83.969s\n"
     ]
    },
    {
     "data": {
      "application/vnd.jupyter.widget-view+json": {
       "model_id": "12238ef8624c4d74ac2e81aba25e36da",
       "version_major": 2,
       "version_minor": 0
      },
      "text/plain": [
       "  0%|          | 0/390 [00:00<?, ?it/s]"
      ]
     },
     "metadata": {},
     "output_type": "display_data"
    },
    {
     "name": "stdout",
     "output_type": "stream",
     "text": [
      "Epoch 6/9 accuracy: 0.42436 loss: [1.6190336] time: 83.572s\n"
     ]
    },
    {
     "data": {
      "application/vnd.jupyter.widget-view+json": {
       "model_id": "c0364350d1f64136bf89cf4628b76bcd",
       "version_major": 2,
       "version_minor": 0
      },
      "text/plain": [
       "  0%|          | 0/390 [00:00<?, ?it/s]"
      ]
     },
     "metadata": {},
     "output_type": "display_data"
    },
    {
     "name": "stdout",
     "output_type": "stream",
     "text": [
      "Epoch 7/9 accuracy: 0.42972 loss: [1.6061577] time: 88.276s\n"
     ]
    },
    {
     "data": {
      "application/vnd.jupyter.widget-view+json": {
       "model_id": "c471e2e0745047eca38a54226ec888fa",
       "version_major": 2,
       "version_minor": 0
      },
      "text/plain": [
       "  0%|          | 0/390 [00:00<?, ?it/s]"
      ]
     },
     "metadata": {},
     "output_type": "display_data"
    },
    {
     "name": "stdout",
     "output_type": "stream",
     "text": [
      "Epoch 8/9 accuracy: 0.43538 loss: [1.5870414] time: 87.417s\n"
     ]
    },
    {
     "data": {
      "application/vnd.jupyter.widget-view+json": {
       "model_id": "9ef06af1ace64f259a10c1402360f736",
       "version_major": 2,
       "version_minor": 0
      },
      "text/plain": [
       "  0%|          | 0/390 [00:00<?, ?it/s]"
      ]
     },
     "metadata": {},
     "output_type": "display_data"
    },
    {
     "name": "stdout",
     "output_type": "stream",
     "text": [
      "Epoch 9/9 accuracy: 0.43994 loss: [1.5748775] time: 88.116s\n"
     ]
    },
    {
     "data": {
      "application/vnd.jupyter.widget-view+json": {
       "model_id": "129091db12b740b5adcf5036aef907f6",
       "version_major": 2,
       "version_minor": 0
      },
      "text/plain": [
       "  0%|          | 0/78 [00:00<?, ?it/s]"
      ]
     },
     "metadata": {},
     "output_type": "display_data"
    },
    {
     "name": "stdout",
     "output_type": "stream",
     "text": [
      "accuracy: 0.4107 loss: [1.6440225]\n"
     ]
    }
   ],
   "source": [
    "_train(tanh_deq_model)"
   ]
  },
  {
   "cell_type": "markdown",
   "id": "95881032",
   "metadata": {},
   "source": [
    "### Training \"ResNet\" model"
   ]
  },
  {
   "cell_type": "code",
   "execution_count": 9,
   "id": "eb2e0399",
   "metadata": {},
   "outputs": [],
   "source": [
    "from models import ResNetDEQ"
   ]
  },
  {
   "cell_type": "code",
   "execution_count": 11,
   "id": "435801f5",
   "metadata": {},
   "outputs": [],
   "source": [
    "resnet_model = ResNetDEQ(\n",
    "    in_channels=3,\n",
    "    out_channels=16,\n",
    "    hidden_size=32,\n",
    "    kernel_size=3,\n",
    "    n_classes=10,\n",
    "    device=device,\n",
    "    use_deq=False,\n",
    "    depth=1,#10,\n",
    ")"
   ]
  },
  {
   "cell_type": "code",
   "execution_count": 12,
   "id": "dc22b891",
   "metadata": {},
   "outputs": [],
   "source": [
    "resnet_deq_model = ResNetDEQ(\n",
    "    in_channels=3,\n",
    "    out_channels=16,\n",
    "    hidden_size=32,\n",
    "    kernel_size=3,\n",
    "    n_classes=10,\n",
    "    device=device,\n",
    "    use_deq=True,\n",
    "    solver=ndl.solver.ForwardIteration(max_iter=100),\n",
    ")"
   ]
  },
  {
   "cell_type": "code",
   "execution_count": 13,
   "id": "f274f6ae",
   "metadata": {},
   "outputs": [],
   "source": [
    "X, _ = next(iter(train_dataloader))\n",
    "X = ndl.Tensor(X, device=device)"
   ]
  },
  {
   "cell_type": "code",
   "execution_count": 14,
   "id": "059d773d",
   "metadata": {},
   "outputs": [
    {
     "name": "stdout",
     "output_type": "stream",
     "text": [
      "CPU times: user 3.47 s, sys: 494 ms, total: 3.96 s\n",
      "Wall time: 3.99 s\n"
     ]
    },
    {
     "data": {
      "text/plain": [
       "(128, 10)"
      ]
     },
     "execution_count": 14,
     "metadata": {},
     "output_type": "execute_result"
    }
   ],
   "source": [
    "%%time\n",
    "resnet_model(X).shape"
   ]
  },
  {
   "cell_type": "code",
   "execution_count": 15,
   "id": "2caddc04",
   "metadata": {},
   "outputs": [
    {
     "name": "stdout",
     "output_type": "stream",
     "text": [
      "CPU times: user 4min 59s, sys: 9.27 s, total: 5min 9s\n",
      "Wall time: 5min 10s\n"
     ]
    },
    {
     "data": {
      "text/plain": [
       "(128, 10)"
      ]
     },
     "execution_count": 15,
     "metadata": {},
     "output_type": "execute_result"
    }
   ],
   "source": [
    "%%time\n",
    "resnet_deq_model(X).shape"
   ]
  },
  {
   "cell_type": "code",
   "execution_count": null,
   "id": "8910789a",
   "metadata": {},
   "outputs": [],
   "source": [
    "_train(resnet_model)"
   ]
  },
  {
   "cell_type": "code",
   "execution_count": null,
   "id": "a648503b",
   "metadata": {},
   "outputs": [],
   "source": [
    "_train(resnet_deq_model)"
   ]
  }
 ],
 "metadata": {
  "kernelspec": {
   "display_name": "Python 3 (ipykernel)",
   "language": "python",
   "name": "python3"
  },
  "language_info": {
   "codemirror_mode": {
    "name": "ipython",
    "version": 3
   },
   "file_extension": ".py",
   "mimetype": "text/x-python",
   "name": "python",
   "nbconvert_exporter": "python",
   "pygments_lexer": "ipython3",
   "version": "3.8.13"
  }
 },
 "nbformat": 4,
 "nbformat_minor": 5
}
